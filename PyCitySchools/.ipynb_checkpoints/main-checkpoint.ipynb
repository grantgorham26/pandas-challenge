{
 "cells": [
  {
   "cell_type": "markdown",
   "id": "7020a4ac-de78-40f0-8ba9-c21cfe97e038",
   "metadata": {},
   "source": [
    "# PyCitySchools Analysis #\n",
    "* analysis here\n",
    "\n"
   ]
  },
  {
   "cell_type": "code",
   "execution_count": 1,
   "id": "97106bef-dd88-478b-b273-78ec2408ccad",
   "metadata": {
    "tags": []
   },
   "outputs": [
    {
     "name": "stdout",
     "output_type": "stream",
     "text": [
      "/Users/grantgorham/Documents/GitHub/pandas-challenge/PyCitySchools\n"
     ]
    }
   ],
   "source": [
    "!pwd"
   ]
  },
  {
   "cell_type": "code",
   "execution_count": 2,
   "id": "5386e764-5761-4f72-add2-e2c0b1242b25",
   "metadata": {
    "tags": []
   },
   "outputs": [
    {
     "data": {
      "text/html": [
       "<div>\n",
       "<style scoped>\n",
       "    .dataframe tbody tr th:only-of-type {\n",
       "        vertical-align: middle;\n",
       "    }\n",
       "\n",
       "    .dataframe tbody tr th {\n",
       "        vertical-align: top;\n",
       "    }\n",
       "\n",
       "    .dataframe thead th {\n",
       "        text-align: right;\n",
       "    }\n",
       "</style>\n",
       "<table border=\"1\" class=\"dataframe\">\n",
       "  <thead>\n",
       "    <tr style=\"text-align: right;\">\n",
       "      <th></th>\n",
       "      <th>Student ID</th>\n",
       "      <th>student_name</th>\n",
       "      <th>gender</th>\n",
       "      <th>grade</th>\n",
       "      <th>school_name</th>\n",
       "      <th>reading_score</th>\n",
       "      <th>math_score</th>\n",
       "      <th>School ID</th>\n",
       "      <th>type</th>\n",
       "      <th>size</th>\n",
       "      <th>budget</th>\n",
       "    </tr>\n",
       "  </thead>\n",
       "  <tbody>\n",
       "    <tr>\n",
       "      <th>0</th>\n",
       "      <td>0</td>\n",
       "      <td>Paul Bradley</td>\n",
       "      <td>M</td>\n",
       "      <td>9th</td>\n",
       "      <td>Huang High School</td>\n",
       "      <td>66</td>\n",
       "      <td>79</td>\n",
       "      <td>0</td>\n",
       "      <td>District</td>\n",
       "      <td>2917</td>\n",
       "      <td>1910635</td>\n",
       "    </tr>\n",
       "    <tr>\n",
       "      <th>1</th>\n",
       "      <td>1</td>\n",
       "      <td>Victor Smith</td>\n",
       "      <td>M</td>\n",
       "      <td>12th</td>\n",
       "      <td>Huang High School</td>\n",
       "      <td>94</td>\n",
       "      <td>61</td>\n",
       "      <td>0</td>\n",
       "      <td>District</td>\n",
       "      <td>2917</td>\n",
       "      <td>1910635</td>\n",
       "    </tr>\n",
       "    <tr>\n",
       "      <th>2</th>\n",
       "      <td>2</td>\n",
       "      <td>Kevin Rodriguez</td>\n",
       "      <td>M</td>\n",
       "      <td>12th</td>\n",
       "      <td>Huang High School</td>\n",
       "      <td>90</td>\n",
       "      <td>60</td>\n",
       "      <td>0</td>\n",
       "      <td>District</td>\n",
       "      <td>2917</td>\n",
       "      <td>1910635</td>\n",
       "    </tr>\n",
       "    <tr>\n",
       "      <th>3</th>\n",
       "      <td>3</td>\n",
       "      <td>Dr. Richard Scott</td>\n",
       "      <td>M</td>\n",
       "      <td>12th</td>\n",
       "      <td>Huang High School</td>\n",
       "      <td>67</td>\n",
       "      <td>58</td>\n",
       "      <td>0</td>\n",
       "      <td>District</td>\n",
       "      <td>2917</td>\n",
       "      <td>1910635</td>\n",
       "    </tr>\n",
       "    <tr>\n",
       "      <th>4</th>\n",
       "      <td>4</td>\n",
       "      <td>Bonnie Ray</td>\n",
       "      <td>F</td>\n",
       "      <td>9th</td>\n",
       "      <td>Huang High School</td>\n",
       "      <td>97</td>\n",
       "      <td>84</td>\n",
       "      <td>0</td>\n",
       "      <td>District</td>\n",
       "      <td>2917</td>\n",
       "      <td>1910635</td>\n",
       "    </tr>\n",
       "  </tbody>\n",
       "</table>\n",
       "</div>"
      ],
      "text/plain": [
       "   Student ID       student_name gender grade        school_name  \\\n",
       "0           0       Paul Bradley      M   9th  Huang High School   \n",
       "1           1       Victor Smith      M  12th  Huang High School   \n",
       "2           2    Kevin Rodriguez      M  12th  Huang High School   \n",
       "3           3  Dr. Richard Scott      M  12th  Huang High School   \n",
       "4           4         Bonnie Ray      F   9th  Huang High School   \n",
       "\n",
       "   reading_score  math_score  School ID      type  size   budget  \n",
       "0             66          79          0  District  2917  1910635  \n",
       "1             94          61          0  District  2917  1910635  \n",
       "2             90          60          0  District  2917  1910635  \n",
       "3             67          58          0  District  2917  1910635  \n",
       "4             97          84          0  District  2917  1910635  "
      ]
     },
     "execution_count": 2,
     "metadata": {},
     "output_type": "execute_result"
    }
   ],
   "source": [
    "# Dependencies and Setup adding the pandas library and path to read raw data(csv files)\n",
    "import pandas as pd\n",
    "from pathlib import Path \n",
    "\n",
    "#load files using the correct path\n",
    "school_data_path=Path('Resources/schools_complete.csv')\n",
    "student_data_path=Path('Resources/students_complete.csv')\n",
    "\n",
    "#use read csv to read the csv files and store as a pandas data frame\n",
    "school_df=pd.read_csv(school_data_path)\n",
    "student_df=pd.read_csv(student_data_path)\n",
    "\n",
    "#merge data into a single data frame\n",
    "school_student_df = pd.merge(student_df, school_df, how='right', on=['school_name','school_name'])\n",
    "school_student_df.head()\n",
    "\n"
   ]
  },
  {
   "cell_type": "markdown",
   "id": "c2874384-5319-493a-80e2-399c04935208",
   "metadata": {},
   "source": [
    "# District Summary #"
   ]
  },
  {
   "cell_type": "code",
   "execution_count": 3,
   "id": "2cab33b9-8d15-4d9f-96c6-99d588ee0255",
   "metadata": {
    "tags": []
   },
   "outputs": [
    {
     "data": {
      "text/plain": [
       "15"
      ]
     },
     "execution_count": 3,
     "metadata": {},
     "output_type": "execute_result"
    }
   ],
   "source": [
    "#numbe of unique school\n",
    "school_count=school_student_df['school_name'].nunique()\n",
    "school_count\n"
   ]
  },
  {
   "cell_type": "code",
   "execution_count": 4,
   "id": "13924e57-94e3-48d7-9cac-b790790099c0",
   "metadata": {
    "tags": []
   },
   "outputs": [
    {
     "data": {
      "text/plain": [
       "39170"
      ]
     },
     "execution_count": 4,
     "metadata": {},
     "output_type": "execute_result"
    }
   ],
   "source": [
    "#number of total students\n",
    "student_count=school_student_df['student_name'].count()\n",
    "student_count"
   ]
  },
  {
   "cell_type": "code",
   "execution_count": 5,
   "id": "58a602ab-4d0b-4e49-bc8b-5aea55a77a94",
   "metadata": {
    "tags": []
   },
   "outputs": [
    {
     "data": {
      "text/plain": [
       "24649428"
      ]
     },
     "execution_count": 5,
     "metadata": {},
     "output_type": "execute_result"
    }
   ],
   "source": [
    "#total budget \n",
    "total_budget=school_df['budget'].sum()\n",
    "total_budget\n"
   ]
  },
  {
   "cell_type": "code",
   "execution_count": 6,
   "id": "9a5d6902-62c9-4192-ae29-1acc7a495088",
   "metadata": {
    "tags": []
   },
   "outputs": [
    {
     "data": {
      "text/plain": [
       "629.2935409752362"
      ]
     },
     "execution_count": 6,
     "metadata": {},
     "output_type": "execute_result"
    }
   ],
   "source": [
    "#budget per student \n",
    "budget_per_student=total_budget/student_count\n",
    "budget_per_student\n"
   ]
  },
  {
   "cell_type": "code",
   "execution_count": 7,
   "id": "2290262d-06cb-412e-8abc-768c6b2d8234",
   "metadata": {
    "tags": []
   },
   "outputs": [
    {
     "data": {
      "text/plain": [
       "78.98537145774827"
      ]
     },
     "execution_count": 7,
     "metadata": {},
     "output_type": "execute_result"
    }
   ],
   "source": [
    "#calculate average math school \n",
    "avg_math_score=school_student_df['math_score'].mean()\n",
    "avg_math_score"
   ]
  },
  {
   "cell_type": "code",
   "execution_count": 8,
   "id": "a3beb752-5d5b-452d-95f6-3eed9d259bfc",
   "metadata": {
    "tags": []
   },
   "outputs": [
    {
     "data": {
      "text/plain": [
       "81.87784018381414"
      ]
     },
     "execution_count": 8,
     "metadata": {},
     "output_type": "execute_result"
    }
   ],
   "source": [
    "#calculate the average reading score\n",
    "avg_reading_score=school_student_df['reading_score'].mean()\n",
    "avg_reading_score"
   ]
  },
  {
   "cell_type": "code",
   "execution_count": 9,
   "id": "74523c6e-ee7a-46ff-a252-0c4327aca365",
   "metadata": {
    "tags": []
   },
   "outputs": [
    {
     "data": {
      "text/plain": [
       "74.9808526933878"
      ]
     },
     "execution_count": 9,
     "metadata": {},
     "output_type": "execute_result"
    }
   ],
   "source": [
    "#calculate the number of students who passed math (passing is a score greater than or euqal to 70)\n",
    "passing_math=school_student_df[(school_student_df['math_score']>=70)].count()['student_name']\n",
    "passing_math=(passing_math/student_count)*100\n",
    "passing_math"
   ]
  },
  {
   "cell_type": "code",
   "execution_count": 10,
   "id": "20643e8e-8f3b-4bbb-b72d-edc89e89ae8c",
   "metadata": {
    "tags": []
   },
   "outputs": [
    {
     "data": {
      "text/plain": [
       "85.80546336482001"
      ]
     },
     "execution_count": 10,
     "metadata": {},
     "output_type": "execute_result"
    }
   ],
   "source": [
    "#calculate the number of students who passed reading (passing is a score greater than or euqal to 70)\n",
    "passing_reading=school_student_df[(school_student_df['reading_score']>=70)].count()['student_name']\n",
    "passing_reading=(passing_reading/student_count)*100\n",
    "passing_reading"
   ]
  },
  {
   "cell_type": "code",
   "execution_count": 11,
   "id": "92bd2434-5cf9-402c-ae06-dba2e4a19879",
   "metadata": {
    "tags": []
   },
   "outputs": [
    {
     "data": {
      "text/plain": [
       "65.17232575950983"
      ]
     },
     "execution_count": 11,
     "metadata": {},
     "output_type": "execute_result"
    }
   ],
   "source": [
    "#calculate the amountof students that passed math and reading (passing is greater than 70 on both tests)\n",
    "passed_both=school_student_df[(school_student_df['math_score']>=70) & (school_student_df['reading_score']>=70)].count()['student_name']\n",
    "passed_both=(passed_both/student_count)*100\n",
    "passed_both"
   ]
  },
  {
   "cell_type": "code",
   "execution_count": 12,
   "id": "fb64b870-f8fd-4b54-975b-6eb9ddad6dbd",
   "metadata": {
    "tags": []
   },
   "outputs": [
    {
     "data": {
      "text/html": [
       "<div>\n",
       "<style scoped>\n",
       "    .dataframe tbody tr th:only-of-type {\n",
       "        vertical-align: middle;\n",
       "    }\n",
       "\n",
       "    .dataframe tbody tr th {\n",
       "        vertical-align: top;\n",
       "    }\n",
       "\n",
       "    .dataframe thead th {\n",
       "        text-align: right;\n",
       "    }\n",
       "</style>\n",
       "<table border=\"1\" class=\"dataframe\">\n",
       "  <thead>\n",
       "    <tr style=\"text-align: right;\">\n",
       "      <th></th>\n",
       "      <th>Number of Schools</th>\n",
       "      <th>Total Students</th>\n",
       "      <th>Total Budget</th>\n",
       "      <th>Budget per Student</th>\n",
       "      <th>Avg Math Score</th>\n",
       "      <th>Avg Reading Score</th>\n",
       "      <th>% Passing Math</th>\n",
       "      <th>% Passing Reading</th>\n",
       "      <th>% Overall Passing</th>\n",
       "    </tr>\n",
       "  </thead>\n",
       "  <tbody>\n",
       "    <tr>\n",
       "      <th>0</th>\n",
       "      <td>15</td>\n",
       "      <td>39,170</td>\n",
       "      <td>$24,649,428.00</td>\n",
       "      <td>629.293541</td>\n",
       "      <td>78.985371</td>\n",
       "      <td>81.87784</td>\n",
       "      <td>74.980853</td>\n",
       "      <td>85.805463</td>\n",
       "      <td>65.172326</td>\n",
       "    </tr>\n",
       "  </tbody>\n",
       "</table>\n",
       "</div>"
      ],
      "text/plain": [
       "   Number of Schools Total Students    Total Budget  Budget per Student  \\\n",
       "0                 15         39,170  $24,649,428.00          629.293541   \n",
       "\n",
       "   Avg Math Score  Avg Reading Score  % Passing Math  % Passing Reading  \\\n",
       "0       78.985371           81.87784       74.980853          85.805463   \n",
       "\n",
       "   % Overall Passing  \n",
       "0          65.172326  "
      ]
     },
     "execution_count": 12,
     "metadata": {},
     "output_type": "execute_result"
    }
   ],
   "source": [
    "#create a snapshot of the data\n",
    "\n",
    "data_for_snapshot= {'Number of Schools':[school_count],'Total Students':[student_count],'Total Budget':[total_budget],'Budget per Student':[budget_per_student],\n",
    "                    'Avg Math Score':[avg_math_score],'Avg Reading Score':[avg_reading_score],\n",
    "                    '% Passing Math':[passing_math],'% Passing Reading':[passing_reading],'% Overall Passing':[passed_both]}\n",
    "                    \n",
    "district_summary=pd.DataFrame(data_for_snapshot,columns=['Number of Schools','Total Students','Total Budget','Budget per Student',\n",
    "                                                         'Avg Math Score','Avg Reading Score','% Passing Math',\n",
    "                                                         '% Passing Reading','% Overall Passing'])\n",
    "\n",
    "#formatting\n",
    "district_summary['Total Students']=district_summary['Total Students'].map(\"{:,}\".format)\n",
    "district_summary['Total Budget']=district_summary['Total Budget'].map(\"${:,.2f}\".format)\n",
    "\n",
    "district_summary\n",
    "\n"
   ]
  },
  {
   "cell_type": "markdown",
   "id": "d986c916-32dd-4065-b686-2bfbaeb1d152",
   "metadata": {},
   "source": [
    "# School Summary #"
   ]
  },
  {
   "cell_type": "code",
   "execution_count": 15,
   "id": "ded3a58f-8715-45f6-900d-f478a867a3c7",
   "metadata": {},
   "outputs": [
    {
     "data": {
      "text/plain": [
       "school_name\n",
       "Huang High School        District\n",
       "Figueroa High School     District\n",
       "Shelton High School       Charter\n",
       "Hernandez High School    District\n",
       "Griffin High School       Charter\n",
       "Wilson High School        Charter\n",
       "Cabrera High School       Charter\n",
       "Bailey High School       District\n",
       "Holden High School        Charter\n",
       "Pena High School          Charter\n",
       "Wright High School        Charter\n",
       "Rodriguez High School    District\n",
       "Johnson High School      District\n",
       "Ford High School         District\n",
       "Thomas High School        Charter\n",
       "Name: type, dtype: object"
      ]
     },
     "execution_count": 15,
     "metadata": {},
     "output_type": "execute_result"
    }
   ],
   "source": [
    "# create a schools type \n",
    "school_types=school_df.set_index(['school_name'])['type']\n",
    "school_types\n"
   ]
  },
  {
   "cell_type": "code",
   "execution_count": 17,
   "id": "2cea7996-0103-4278-888e-fcfd4910200c",
   "metadata": {
    "tags": []
   },
   "outputs": [
    {
     "data": {
      "text/plain": [
       "school_name\n",
       "Huang High School        2917\n",
       "Figueroa High School     2949\n",
       "Shelton High School      1761\n",
       "Hernandez High School    4635\n",
       "Griffin High School      1468\n",
       "Wilson High School       2283\n",
       "Cabrera High School      1858\n",
       "Bailey High School       4976\n",
       "Holden High School        427\n",
       "Pena High School          962\n",
       "Wright High School       1800\n",
       "Rodriguez High School    3999\n",
       "Johnson High School      4761\n",
       "Ford High School         2739\n",
       "Thomas High School       1635\n",
       "Name: size, dtype: int64"
      ]
     },
     "execution_count": 17,
     "metadata": {},
     "output_type": "execute_result"
    }
   ],
   "source": [
    "#calculate the total student count per school\n",
    "per_school_count=school_df.set_index(['school_name'])['size']\n",
    "per_school_count"
   ]
  },
  {
   "cell_type": "code",
   "execution_count": 27,
   "id": "b70c6e62-37d3-4e33-b02e-548713c01ef7",
   "metadata": {
    "tags": []
   },
   "outputs": [
    {
     "data": {
      "text/plain": [
       "school_name\n",
       "Huang High School        655.0\n",
       "Figueroa High School     639.0\n",
       "Shelton High School      600.0\n",
       "Hernandez High School    652.0\n",
       "Griffin High School      625.0\n",
       "Wilson High School       578.0\n",
       "Cabrera High School      582.0\n",
       "Bailey High School       628.0\n",
       "Holden High School       581.0\n",
       "Pena High School         609.0\n",
       "Wright High School       583.0\n",
       "Rodriguez High School    637.0\n",
       "Johnson High School      650.0\n",
       "Ford High School         644.0\n",
       "Thomas High School       638.0\n",
       "dtype: float64"
      ]
     },
     "execution_count": 27,
     "metadata": {},
     "output_type": "execute_result"
    }
   ],
   "source": [
    "# Calculate the total school budget and per capita spending per school from school_data\n",
    "per_school_budget=school_df.set_index(['school_name'])['budget']\n",
    "per_school_budget\n",
    "per_school_capita=per_school_budget/per_school_count\n",
    "per_school_capita"
   ]
  },
  {
   "cell_type": "code",
   "execution_count": null,
   "id": "5e236657-5621-4b3f-88c4-eba944eba072",
   "metadata": {},
   "outputs": [],
   "source": [
    "# Calculate the average test scores per school from school_student_df\n",
    "per_school_math=\n"
   ]
  }
 ],
 "metadata": {
  "kernelspec": {
   "display_name": "Python 3 (ipykernel)",
   "language": "python",
   "name": "python3"
  },
  "language_info": {
   "codemirror_mode": {
    "name": "ipython",
    "version": 3
   },
   "file_extension": ".py",
   "mimetype": "text/x-python",
   "name": "python",
   "nbconvert_exporter": "python",
   "pygments_lexer": "ipython3",
   "version": "3.10.13"
  }
 },
 "nbformat": 4,
 "nbformat_minor": 5
}
